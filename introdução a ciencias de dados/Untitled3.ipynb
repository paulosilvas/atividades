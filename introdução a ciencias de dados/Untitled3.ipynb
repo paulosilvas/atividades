{
 "cells": [
  {
   "cell_type": "code",
   "execution_count": 3,
   "metadata": {},
   "outputs": [],
   "source": [
    "top_10 = [\"Tones and I - Dance Monkey\", \"Lady Gaga, Ariana Grande - Rain on Me\",\n",
    "          \"Justin Bieber - Yummy\", \"MISCHO - Photon Love\", \"Dua Lipa - Break My Heart\",\n",
    "          \"Lady Gaga, BLACKPINK - Sour Candy\", \"Dua Lipa - Don't Start Now\",\n",
    "          \"Justin Bieber, Quavo - Intentions\", \"Doja Cat - Say So\",\n",
    "          \"Karol G, Nicki Minaj - Tusa\", \"Benee, Gus Dapperton - Supalonely\"]"
   ]
  },
  {
   "cell_type": "code",
   "execution_count": 4,
   "metadata": {},
   "outputs": [
    {
     "data": {
      "text/plain": [
       "[{'artist': 'Tones and I', 'song': 'Dance Monkey'},\n",
       " {'artist': 'Lady Gaga, Ariana Grande', 'song': 'Rain on Me'},\n",
       " {'artist': 'Justin Bieber', 'song': 'Yummy'},\n",
       " {'artist': 'MISCHO', 'song': 'Photon Love'},\n",
       " {'artist': 'Dua Lipa', 'song': 'Break My Heart'},\n",
       " {'artist': 'Lady Gaga, BLACKPINK', 'song': 'Sour Candy'},\n",
       " {'artist': 'Dua Lipa', 'song': \"Don't Start Now\"},\n",
       " {'artist': 'Justin Bieber, Quavo', 'song': 'Intentions'},\n",
       " {'artist': 'Doja Cat', 'song': 'Say So'},\n",
       " {'artist': 'Karol G, Nicki Minaj', 'song': 'Tusa'},\n",
       " {'artist': 'Benee, Gus Dapperton', 'song': 'Supalonely'}]"
      ]
     },
     "execution_count": 4,
     "metadata": {},
     "output_type": "execute_result"
    }
   ],
   "source": [
    "top_10_dict = [{\"artist\": x.split(\" - \")[0], \"song\": x.split(\" - \")[1]} for x in top_10]\n",
    "top_10_dict"
   ]
  },
  {
   "cell_type": "code",
   "execution_count": 12,
   "metadata": {},
   "outputs": [],
   "source": [
    "def get_songs(music_dict):\n",
    "    \"\"\"\n",
    "    >>> get_songs(top_10_dict)\n",
    "    ['Dance Monkey', 'Rain on Me', 'Yummy', 'Photon Love', 'Break My Heart', 'Sour Candy', \"Don't Start Now\", 'Intentions', 'Say So', 'Tusa', 'Supalonely']\n",
    "    \"\"\"\n",
    "    paulo = []\n",
    "    for a in range(len(music_dict)):\n",
    "        paulo.append(music_dict[a]['song'])\n",
    "    return paulo"
   ]
  },
  {
   "cell_type": "code",
   "execution_count": 14,
   "metadata": {},
   "outputs": [
    {
     "data": {
      "text/plain": [
       "['Dance Monkey',\n",
       " 'Rain on Me',\n",
       " 'Yummy',\n",
       " 'Photon Love',\n",
       " 'Break My Heart',\n",
       " 'Sour Candy',\n",
       " \"Don't Start Now\",\n",
       " 'Intentions',\n",
       " 'Say So',\n",
       " 'Tusa',\n",
       " 'Supalonely']"
      ]
     },
     "execution_count": 14,
     "metadata": {},
     "output_type": "execute_result"
    }
   ],
   "source": [
    "get_songs(top_10_dict)"
   ]
  },
  {
   "cell_type": "code",
   "execution_count": 23,
   "metadata": {},
   "outputs": [],
   "source": [
    "def get_artists(music_dict):\n",
    "    \"\"\"\n",
    "    >>> get_artists(top_10_dict)\n",
    "    ['Tones and I', 'Lady Gaga', 'Ariana Grande', 'Justin Bieber', 'MISCHO', 'Dua Lipa', 'Lady Gaga', 'BLACKPINK', 'Dua Lipa', 'Justin Bieber', 'Quavo', 'Doja Cat', 'Karol G', 'Nicki Minaj', 'Benee', 'Gus Dapperton']\n",
    "    \"\"\"\n",
    "    artista = []\n",
    "    for a in range(len(music_dict)):\n",
    "        artista.append(music_dict[a]['artist'])\n",
    "    return artista"
   ]
  },
  {
   "cell_type": "code",
   "execution_count": 24,
   "metadata": {},
   "outputs": [
    {
     "data": {
      "text/plain": [
       "['Tones and I',\n",
       " 'Lady Gaga, Ariana Grande',\n",
       " 'Justin Bieber',\n",
       " 'MISCHO',\n",
       " 'Dua Lipa',\n",
       " 'Lady Gaga, BLACKPINK',\n",
       " 'Dua Lipa',\n",
       " 'Justin Bieber, Quavo',\n",
       " 'Doja Cat',\n",
       " 'Karol G, Nicki Minaj',\n",
       " 'Benee, Gus Dapperton']"
      ]
     },
     "execution_count": 24,
     "metadata": {},
     "output_type": "execute_result"
    }
   ],
   "source": [
    "get_artists(top_10_dict)"
   ]
  },
  {
   "cell_type": "code",
   "execution_count": null,
   "metadata": {},
   "outputs": [],
   "source": []
  }
 ],
 "metadata": {
  "kernelspec": {
   "display_name": "Python 3",
   "language": "python",
   "name": "python3"
  },
  "language_info": {
   "codemirror_mode": {
    "name": "ipython",
    "version": 3
   },
   "file_extension": ".py",
   "mimetype": "text/x-python",
   "name": "python",
   "nbconvert_exporter": "python",
   "pygments_lexer": "ipython3",
   "version": "3.8.3"
  }
 },
 "nbformat": 4,
 "nbformat_minor": 4
}
